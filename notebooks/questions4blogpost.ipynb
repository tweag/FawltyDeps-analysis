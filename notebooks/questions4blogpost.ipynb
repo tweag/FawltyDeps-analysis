{
 "cells": [
  {
   "cell_type": "code",
   "execution_count": 1,
   "metadata": {},
   "outputs": [],
   "source": [
    "import json\n",
    "import pandas as pd\n",
    "import numpy as np\n",
    "import matplotlib.pyplot as plt\n",
    "import os\n",
    "from collections import defaultdict\n",
    "from pathlib import Path\n",
    "from typing import Dict, Any, Set\n",
    "from fd_analysis.prepare import filter_corrupt_files, get_depsfiles, reduce_directory_levels\n",
    "\n",
    "\n",
    "def exctract_code_directories(codedir: Dict[str, Dict[str, Any]], project_name: str) -> Dict[str, Dict[str, Any]]:\n",
    "    \"\"\"Exctract code directories and sum up the number of files in each directory.\"\"\"\n",
    "    code_dirs = defaultdict(int)\n",
    "    for folder, source_type_dict in codedir.items():\n",
    "        if folder.lower() == project_name.lower():\n",
    "            code_dirs |= {\n",
    "                (\"PROJECT_NAME\", \"py\"): source_type_dict[\"py\"], \n",
    "                (\"PROJECT_NAME\",\"ipynb\"): source_type_dict[\"ipynb\"]\n",
    "                }\n",
    "        else:\n",
    "            code_dirs |= {\n",
    "                (folder, \"py\"): source_type_dict[\"py\"], \n",
    "                (folder,\"ipynb\"): source_type_dict[\"ipynb\"]\n",
    "                }\n",
    "    return code_dirs\n",
    "\n",
    "\n",
    "def get_python_projects(data: Dict[str, Dict[str, Any]]) -> Set[str]:\n",
    "    \"\"\"Get all projects that have Python code. Create a set of Python project names.\"\"\"\n",
    "    codedirs = defaultdict(dict)\n",
    "    non_python_projects = []\n",
    "    for k, d in data.items():\n",
    "        project_name = d[\"metadata\"][\"project_name\"]\n",
    "        # There should be .py or .ipynb files in the code_dirs\n",
    "        # If there are only .ipynb files and no imports, then\n",
    "        # it is most likely an R project\n",
    "        # There are some projects written in Python 2.X,\n",
    "        # example: https://github.com/mattloose/RUFigs\n",
    "        # For those, FawltyDeps does not work and the results are not reliable.\n",
    "        # We assume that all Python projects have 3-rd party imports.\n",
    "        if d[\"code_dirs\"] and d[\"imports\"]:\n",
    "            code_dirs = exctract_code_directories(d[\"code_dirs\"], project_name)\n",
    "            codedirs[project_name] = code_dirs\n",
    "        else:\n",
    "            non_python_projects.append({project_name: {\"imports\": d[\"imports\"], \"code_dirs\": d[\"code_dirs\"]}})  \n",
    "\n",
    "\n",
    "    df_codedirs = pd.DataFrame.from_dict(codedirs, orient=\"index\")\n",
    "\n",
    "    python_projects = set(df_codedirs.index)\n",
    "    return python_projects, non_python_projects\n"
   ]
  },
  {
   "cell_type": "markdown",
   "metadata": {},
   "source": [
    "## For PyPI data"
   ]
  },
  {
   "cell_type": "code",
   "execution_count": 2,
   "metadata": {},
   "outputs": [
    {
     "name": "stdout",
     "output_type": "stream",
     "text": [
      "Corrupt:  []\n"
     ]
    },
    {
     "data": {
      "text/plain": [
       "1160"
      ]
     },
     "execution_count": 2,
     "metadata": {},
     "output_type": "execute_result"
    }
   ],
   "source": [
    "# import PyPI data\n",
    "\n",
    "# paths = \"../data/pypi_0.13.1.1/\"\n",
    "paths = \"../data/results_pypi_20240423/\"\n",
    "\n",
    "data_pypi, corrupt_pypi = filter_corrupt_files([Path(paths) / file for file in os.listdir(paths)])\n",
    "\n",
    "print(\"Corrupt: \", corrupt_pypi)\n",
    "len(data_pypi)"
   ]
  },
  {
   "cell_type": "code",
   "execution_count": 3,
   "metadata": {},
   "outputs": [
    {
     "name": "stdout",
     "output_type": "stream",
     "text": [
      "1118 42\n"
     ]
    }
   ],
   "source": [
    "python_projects, non_python_projects = get_python_projects(data_pypi)\n",
    "print(len(python_projects), len(non_python_projects))"
   ]
  },
  {
   "cell_type": "code",
   "execution_count": 4,
   "metadata": {},
   "outputs": [
    {
     "name": "stdout",
     "output_type": "stream",
     "text": [
      "[Sanity check] Number of projects with code_dirs and some imports: 0\n"
     ]
    },
    {
     "data": {
      "text/plain": [
       "[]"
      ]
     },
     "execution_count": 4,
     "metadata": {},
     "output_type": "execute_result"
    }
   ],
   "source": [
    "no_code_dirs_only = [k for k in non_python_projects if list(k.values())[0][\"code_dirs\"] is None and len(list(k.values())[0][\"imports\"])]\n",
    "print(f\"[Sanity check] Number of projects with code_dirs and some imports: {len(no_code_dirs_only)}\")\n",
    "no_code_dirs_only"
   ]
  },
  {
   "cell_type": "code",
   "execution_count": 5,
   "metadata": {},
   "outputs": [
    {
     "name": "stdout",
     "output_type": "stream",
     "text": [
      "Number of projects with no imports and code_dirs:  15\n"
     ]
    },
    {
     "data": {
      "text/plain": [
       "[{'backcall': {'imports': [],\n",
       "   'code_dirs': {'backcall': {'py': 3, 'ipynb': 0, 'total': 3},\n",
       "    'tests': {'py': 2, 'ipynb': 0, 'total': 2},\n",
       "    'docs': {'py': 1, 'ipynb': 0, 'total': 1},\n",
       "    '.': {'py': 0, 'ipynb': 1, 'total': 1}}}},\n",
       " {'pyjson5': {'imports': [],\n",
       "   'code_dirs': {'json5': {'py': 8, 'ipynb': 0, 'total': 8},\n",
       "    'tests': {'py': 5, 'ipynb': 0, 'total': 5},\n",
       "    'benchmarks': {'py': 1, 'ipynb': 0, 'total': 1}}}},\n",
       " {'configparser': {'imports': [],\n",
       "   'code_dirs': {'tests': {'py': 3, 'ipynb': 0, 'total': 3},\n",
       "    'backports/configparser': {'py': 2, 'ipynb': 0, 'total': 2},\n",
       "    'docs': {'py': 1, 'ipynb': 0, 'total': 1}}}},\n",
       " {'CommonMark-py': {'imports': [],\n",
       "   'code_dirs': {'CommonMark': {'py': 3, 'ipynb': 0, 'total': 3},\n",
       "    '.': {'py': 1, 'ipynb': 0, 'total': 1},\n",
       "    'bin': {'py': 1, 'ipynb': 0, 'total': 1},\n",
       "    'CommonMark/test': {'py': 1, 'ipynb': 0, 'total': 1}}}},\n",
       " {'ptyprocess': {'imports': [],\n",
       "   'code_dirs': {'tests': {'py': 6, 'ipynb': 0, 'total': 6},\n",
       "    'ptyprocess': {'py': 4, 'ipynb': 0, 'total': 4},\n",
       "    'docs': {'py': 1, 'ipynb': 0, 'total': 1}}}},\n",
       " {'uri_template': {'imports': [],\n",
       "   'code_dirs': {'uri_template': {'py': 5, 'ipynb': 0, 'total': 5},\n",
       "    '.': {'py': 1, 'ipynb': 0, 'total': 1}}}},\n",
       " {'dicttoxml': {'imports': [],\n",
       "   'code_dirs': {'.': {'py': 2, 'ipynb': 0, 'total': 2}}}},\n",
       " {'uc.micro-py': {'imports': [],\n",
       "   'code_dirs': {'uc_micro/categories/Cf': {'py': 2, 'ipynb': 0, 'total': 2},\n",
       "    'uc_micro/properties/Any': {'py': 2, 'ipynb': 0, 'total': 2},\n",
       "    'uc_micro/categories/P': {'py': 2, 'ipynb': 0, 'total': 2},\n",
       "    'uc_micro/categories/Z': {'py': 2, 'ipynb': 0, 'total': 2},\n",
       "    'uc_micro/categories/Cc': {'py': 2, 'ipynb': 0, 'total': 2},\n",
       "    'test': {'py': 2, 'ipynb': 0, 'total': 2},\n",
       "    'uc_micro/properties': {'py': 1, 'ipynb': 0, 'total': 1},\n",
       "    'uc_micro': {'py': 1, 'ipynb': 0, 'total': 1},\n",
       "    'uc_micro/categories': {'py': 1, 'ipynb': 0, 'total': 1}}}},\n",
       " {'simpleeval': {'imports': [],\n",
       "   'code_dirs': {'.': {'py': 2, 'ipynb': 0, 'total': 2}}}},\n",
       " {'bz2file': {'imports': [],\n",
       "   'code_dirs': {'.': {'py': 3, 'ipynb': 0, 'total': 3}}}},\n",
       " {'crashtest': {'imports': [],\n",
       "   'code_dirs': {'crashtest/contracts': {'py': 6, 'ipynb': 0, 'total': 6},\n",
       "    'crashtest': {'py': 4, 'ipynb': 0, 'total': 4},\n",
       "    'tests': {'py': 4, 'ipynb': 0, 'total': 4},\n",
       "    'crashtest/solution_providers': {'py': 2, 'ipynb': 0, 'total': 2},\n",
       "    'tests/solution_providers': {'py': 2, 'ipynb': 0, 'total': 2}}}},\n",
       " {'zipfile38': {'imports': [],\n",
       "   'code_dirs': {'.': {'py': 2, 'ipynb': 0, 'total': 2}}}},\n",
       " {'idna': {'imports': [],\n",
       "   'code_dirs': {'idna': {'py': 8, 'ipynb': 0, 'total': 8},\n",
       "    'tests': {'py': 7, 'ipynb': 0, 'total': 7}}}},\n",
       " {'pystatsd': {'imports': [],\n",
       "   'code_dirs': {'statsd/client': {'py': 5, 'ipynb': 0, 'total': 5},\n",
       "    'statsd/defaults': {'py': 3, 'ipynb': 0, 'total': 3},\n",
       "    'statsd': {'py': 2, 'ipynb': 0, 'total': 2},\n",
       "    'docs': {'py': 1, 'ipynb': 0, 'total': 1}}}},\n",
       " {'publication': {'imports': [],\n",
       "   'code_dirs': {'.': {'py': 1, 'ipynb': 0, 'total': 1}}}}]"
      ]
     },
     "execution_count": 5,
     "metadata": {},
     "output_type": "execute_result"
    }
   ],
   "source": [
    "no_imports_only = [k for k in non_python_projects if not list(k.values())[0][\"imports\"] and list(k.values())[0][\"code_dirs\"] is not None]\n",
    "print(\"Number of projects with no imports and code_dirs: \", len(no_imports_only))\n",
    "no_imports_only"
   ]
  },
  {
   "cell_type": "code",
   "execution_count": 6,
   "metadata": {},
   "outputs": [
    {
     "name": "stdout",
     "output_type": "stream",
     "text": [
      "Number of projects with no imports and no code_dirs:  27\n"
     ]
    },
    {
     "data": {
      "text/plain": [
       "[{'azure-sdk-for-python': {'imports': [], 'code_dirs': None}},\n",
       " {'python-workflows': {'imports': [], 'code_dirs': None}},\n",
       " {'python-secret-manager': {'imports': [], 'code_dirs': None}},\n",
       " {'googleapis': {'imports': [], 'code_dirs': None}},\n",
       " {'cdk-nag': {'imports': [], 'code_dirs': None}},\n",
       " {'pybcj': {'imports': [], 'code_dirs': None}},\n",
       " {'python-appengine-logging': {'imports': [], 'code_dirs': None}},\n",
       " {'core': {'imports': [], 'code_dirs': None}},\n",
       " {'python-cloudbuild': {'imports': [], 'code_dirs': None}},\n",
       " {'python-kms': {'imports': [], 'code_dirs': None}},\n",
       " {'keep-alive': {'imports': [], 'code_dirs': None}},\n",
       " {'python-dataplex': {'imports': [], 'code_dirs': None}},\n",
       " {'python-videointelligence': {'imports': [], 'code_dirs': None}},\n",
       " {'python-recommendations-ai': {'imports': [], 'code_dirs': None}},\n",
       " {'python-redis': {'imports': [], 'code_dirs': None}},\n",
       " {'python-orchestration-airflow': {'imports': [], 'code_dirs': None}},\n",
       " {'python-dataproc-metastore': {'imports': [], 'code_dirs': None}},\n",
       " {'dagster': {'imports': [], 'code_dirs': None}},\n",
       " {'python-datacatalog': {'imports': [], 'code_dirs': None}},\n",
       " {'python-vision': {'imports': [], 'code_dirs': None}},\n",
       " {'python-resource-manager': {'imports': [], 'code_dirs': None}},\n",
       " {'python-dataform': {'imports': [], 'code_dirs': None}},\n",
       " {'python-texttospeech': {'imports': [], 'code_dirs': None}},\n",
       " {'constructs': {'imports': [], 'code_dirs': None}},\n",
       " {'python-dataproc': {'imports': [], 'code_dirs': None}},\n",
       " {'python-automl': {'imports': [], 'code_dirs': None}},\n",
       " {'python-memcache': {'imports': [], 'code_dirs': None}}]"
      ]
     },
     "execution_count": 6,
     "metadata": {},
     "output_type": "execute_result"
    }
   ],
   "source": [
    "project_with_missing_both = [k for k in non_python_projects if not list(k.values())[0][\"imports\"] and list(k.values())[0][\"code_dirs\"] is None]\n",
    "print(\"Number of projects with no imports and no code_dirs: \",len(project_with_missing_both))\n",
    "project_with_missing_both"
   ]
  },
  {
   "cell_type": "markdown",
   "metadata": {},
   "source": [
    "## For Biomed data"
   ]
  },
  {
   "cell_type": "code",
   "execution_count": 7,
   "metadata": {},
   "outputs": [
    {
     "name": "stdout",
     "output_type": "stream",
     "text": [
      "Corrupt:  []\n"
     ]
    },
    {
     "data": {
      "text/plain": [
       "1863"
      ]
     },
     "execution_count": 7,
     "metadata": {},
     "output_type": "execute_result"
    }
   ],
   "source": [
    "# import Biomedical's data\n",
    "\n",
    "paths = \"../data/biomedical_0.13.1.1/\"\n",
    "\n",
    "data_biomed, corrupt_biomed = filter_corrupt_files([Path(paths) / file for file in os.listdir(paths)])\n",
    "\n",
    "print(\"Corrupt: \", corrupt_biomed)\n",
    "len(data_biomed)"
   ]
  },
  {
   "cell_type": "code",
   "execution_count": 8,
   "metadata": {},
   "outputs": [
    {
     "name": "stdout",
     "output_type": "stream",
     "text": [
      "1356 507\n"
     ]
    }
   ],
   "source": [
    "biomed_python_projects, biomed_non_python_projects = get_python_projects(data_biomed)\n",
    "print(len(biomed_python_projects), len(biomed_non_python_projects))"
   ]
  },
  {
   "cell_type": "code",
   "execution_count": 9,
   "metadata": {},
   "outputs": [
    {
     "name": "stdout",
     "output_type": "stream",
     "text": [
      "[Sanity check] Number of projects with code_dirs and some imports: 0\n",
      "Number of projects with no imports and code_dirs:  117\n",
      "Number of projects with no imports and no code_dirs:  390\n"
     ]
    }
   ],
   "source": [
    "biomed_no_code_dirs_only = [k for k in biomed_non_python_projects if list(k.values())[0][\"code_dirs\"] is None and len(list(k.values())[0][\"imports\"])]\n",
    "print(f\"[Sanity check] Number of projects with code_dirs and some imports: {len(biomed_no_code_dirs_only)}\")\n",
    "\n",
    "biomed_no_imports_only = [k for k in biomed_non_python_projects if not list(k.values())[0][\"imports\"] and list(k.values())[0][\"code_dirs\"] is not None]\n",
    "print(\"Number of projects with no imports and code_dirs: \", len(biomed_no_imports_only))\n",
    "\n",
    "biomed_project_with_missing_both = [k for k in biomed_non_python_projects if not list(k.values())[0][\"imports\"] and list(k.values())[0][\"code_dirs\"] is None]\n",
    "print(\"Number of projects with no imports and no code_dirs: \", len(biomed_project_with_missing_both))"
   ]
  },
  {
   "cell_type": "markdown",
   "metadata": {},
   "source": []
  }
 ],
 "metadata": {
  "kernelspec": {
   "display_name": "fd-analysis-jk-cfZkt-py3.10",
   "language": "python",
   "name": "python3"
  },
  "language_info": {
   "codemirror_mode": {
    "name": "ipython",
    "version": 3
   },
   "file_extension": ".py",
   "mimetype": "text/x-python",
   "name": "python",
   "nbconvert_exporter": "python",
   "pygments_lexer": "ipython3",
   "version": "3.10.12"
  }
 },
 "nbformat": 4,
 "nbformat_minor": 2
}
